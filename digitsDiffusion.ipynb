{
 "cells": [
  {
   "cell_type": "code",
   "execution_count": 1,
   "metadata": {},
   "outputs": [
    {
     "name": "stderr",
     "output_type": "stream",
     "text": [
      "/home/gaya/miniconda3/envs/DiffMenv/lib/python3.12/site-packages/tqdm/auto.py:21: TqdmWarning: IProgress not found. Please update jupyter and ipywidgets. See https://ipywidgets.readthedocs.io/en/stable/user_install.html\n",
      "  from .autonotebook import tqdm as notebook_tqdm\n"
     ]
    }
   ],
   "source": [
    "import torch\n",
    "import torch.optim as optim\n",
    "import torchvision.transforms as transforms\n",
    "from torchvision.datasets import MNIST\n",
    "from torch.utils.data import DataLoader\n",
    "from denoising_diffusion_pytorch import Unet, GaussianDiffusion\n",
    "import matplotlib.pyplot as plt\n",
    "from torch.utils.data import RandomSampler"
   ]
  },
  {
   "cell_type": "code",
   "execution_count": 2,
   "metadata": {},
   "outputs": [],
   "source": [
    "# Set device to CPU (since you want to run without CUDA)\n",
    "device = torch.device('cpu')"
   ]
  },
  {
   "cell_type": "code",
   "execution_count": 3,
   "metadata": {},
   "outputs": [],
   "source": [
    "# Load the MNIST dataset\n",
    "transform = transforms.Compose([\n",
    "    transforms.Resize((128, 128)),  # Resize to 128x128\n",
    "    transforms.ToTensor(),  # Convert to tensor\n",
    "    transforms.Normalize((0.5,), (0.5,)),  # Normalize to [-1, 1]\n",
    "    transforms.Lambda(lambda x: x.repeat(3, 1, 1))  # Repeat channel to make it 3 channels\n",
    "])\n"
   ]
  },
  {
   "cell_type": "code",
   "execution_count": 4,
   "metadata": {},
   "outputs": [],
   "source": [
    "mnist_dataset = MNIST(root='./data', train=True, download=True, transform=transform)\n",
    "\n",
    "# Create a RandomSampler\n",
    "sampler = RandomSampler(mnist_dataset, num_samples=100)  \n",
    "\n",
    "# Create the DataLoader with the sampler\n",
    "data_loader = DataLoader(mnist_dataset, batch_size=2, sampler=sampler, num_workers=4)"
   ]
  },
  {
   "cell_type": "code",
   "execution_count": 5,
   "metadata": {},
   "outputs": [],
   "source": [
    "# Initialize the Unet model\n",
    "model = Unet(\n",
    "    dim=64,\n",
    "    dim_mults=(1, 2, 4, 8)\n",
    ").to(device)"
   ]
  },
  {
   "cell_type": "code",
   "execution_count": 6,
   "metadata": {},
   "outputs": [],
   "source": [
    "# Initialize the GaussianDiffusion object\n",
    "diffusion = GaussianDiffusion(\n",
    "    model,\n",
    "    image_size=128,\n",
    "    timesteps=10,   # number of steps\n",
    ").to(device)"
   ]
  },
  {
   "cell_type": "code",
   "execution_count": 7,
   "metadata": {},
   "outputs": [],
   "source": [
    "# Initialize your optimizer\n",
    "optimizer = optim.Adam(model.parameters(), lr=1e-4)"
   ]
  },
  {
   "cell_type": "code",
   "execution_count": null,
   "metadata": {},
   "outputs": [
    {
     "name": "stdout",
     "output_type": "stream",
     "text": [
      "Epoch [1/1], Loss: 1.8970\n",
      "Epoch [1/1], Loss: 0.7690\n",
      "Epoch [1/1], Loss: 0.6157\n",
      "Epoch [1/1], Loss: 0.7643\n",
      "Epoch [1/1], Loss: 0.3624\n",
      "Epoch [1/1], Loss: 0.3418\n",
      "Epoch [1/1], Loss: 1.0761\n",
      "Epoch [1/1], Loss: 0.4282\n",
      "Epoch [1/1], Loss: 1.6978\n",
      "Epoch [1/1], Loss: 0.4365\n",
      "Epoch [1/1], Loss: 0.1379\n",
      "Epoch [1/1], Loss: 0.3744\n",
      "Epoch [1/1], Loss: 0.4183\n",
      "Epoch [1/1], Loss: 0.2997\n",
      "Epoch [1/1], Loss: 0.4708\n",
      "Epoch [1/1], Loss: 0.3994\n",
      "Epoch [1/1], Loss: 1.0513\n",
      "Epoch [1/1], Loss: 1.6409\n",
      "Epoch [1/1], Loss: 1.4830\n",
      "Epoch [1/1], Loss: 0.6126\n",
      "Epoch [1/1], Loss: 0.5166\n",
      "Epoch [1/1], Loss: 0.7833\n",
      "Epoch [1/1], Loss: 0.3782\n",
      "Epoch [1/1], Loss: 0.0588\n",
      "Epoch [1/1], Loss: 0.9906\n",
      "Epoch [1/1], Loss: 0.5061\n",
      "Epoch [1/1], Loss: 0.1911\n",
      "Epoch [1/1], Loss: 0.3169\n",
      "Epoch [1/1], Loss: 0.5829\n",
      "Epoch [1/1], Loss: 0.9013\n",
      "Epoch [1/1], Loss: 0.3964\n",
      "Epoch [1/1], Loss: 0.1202\n"
     ]
    }
   ],
   "source": [
    "# Training loop\n",
    "num_epochs = 1\n",
    "for epoch in range(num_epochs):\n",
    "    for images, _ in data_loader:\n",
    "        images = images.to(device)\n",
    "        \n",
    "        optimizer.zero_grad()\n",
    "        loss = diffusion(images)\n",
    "        loss.backward()\n",
    "        optimizer.step()\n",
    "\n",
    "        print(f'Epoch [{epoch+1}/{num_epochs}], Loss: {loss.item():.4f}')\n"
   ]
  },
  {
   "cell_type": "code",
   "execution_count": null,
   "metadata": {},
   "outputs": [
    {
     "name": "stderr",
     "output_type": "stream",
     "text": [
      "sampling loop time step:  62%|██████▏   | 31/50 [00:45<00:27,  1.46s/it]"
     ]
    }
   ],
   "source": [
    "# Sampling images after training\n",
    "sampled_images = diffusion.sample(batch_size=4)"
   ]
  },
  {
   "cell_type": "code",
   "execution_count": null,
   "metadata": {},
   "outputs": [],
   "source": [
    "# Convert sampled images to numpy for visualization or saving\n",
    "sampled_images = (sampled_images + 1) / 2  # Rescale to [0, 1]\n",
    "sampled_images = sampled_images.clamp(0, 1)  # Ensure values are within bounds"
   ]
  },
  {
   "cell_type": "code",
   "execution_count": null,
   "metadata": {},
   "outputs": [],
   "source": [
    "def show_images(images):\n",
    "    images = images.detach().cpu().numpy()\n",
    "    fig, axes = plt.subplots(1, 4, figsize=(10, 5))\n",
    "    for i, ax in enumerate(axes):\n",
    "        ax.imshow(images[i].squeeze(), cmap='gray')\n",
    "        ax.axis('off')\n",
    "    plt.show()"
   ]
  },
  {
   "cell_type": "code",
   "execution_count": null,
   "metadata": {},
   "outputs": [],
   "source": [
    "show_images(sampled_images)"
   ]
  }
 ],
 "metadata": {
  "kernelspec": {
   "display_name": "DiffMenv",
   "language": "python",
   "name": "python3"
  },
  "language_info": {
   "codemirror_mode": {
    "name": "ipython",
    "version": 3
   },
   "file_extension": ".py",
   "mimetype": "text/x-python",
   "name": "python",
   "nbconvert_exporter": "python",
   "pygments_lexer": "ipython3",
   "version": "3.12.7"
  }
 },
 "nbformat": 4,
 "nbformat_minor": 2
}
